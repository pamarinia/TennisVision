{
 "cells": [
  {
   "cell_type": "code",
   "execution_count": 9,
   "metadata": {},
   "outputs": [
    {
     "name": "stdout",
     "output_type": "stream",
     "text": [
      "[[-1 -1 -1]\n",
      " [ 0  0  0]\n",
      " [ 1  1  1]]\n",
      "[[0.13533528 0.36787944 0.13533528]\n",
      " [0.36787944 1.         0.36787944]\n",
      " [0.13533528 0.36787944 0.13533528]]\n"
     ]
    }
   ],
   "source": [
    "import numpy as np\n",
    "\n",
    "size = 1\n",
    "variance = 0.5\n",
    "x, y = np.mgrid[-size:size+1, -size:size+1]\n",
    "print(x)\n",
    "g = np.exp(-(x**2 + y**2)/float(2*variance))\n",
    "\n",
    "print(g)"
   ]
  },
  {
   "cell_type": "code",
   "execution_count": 27,
   "metadata": {},
   "outputs": [],
   "source": [
    "def gaussian_kernel(size, variance):\n",
    "    x, y = np.mgrid[-size:size+1, -size:size+1]\n",
    "    g = 255 * np.exp(-(x**2 + y**2)/float(2*variance))\n",
    "    return g.astype(int)"
   ]
  },
  {
   "cell_type": "code",
   "execution_count": 29,
   "metadata": {},
   "outputs": [
    {
     "name": "stdout",
     "output_type": "stream",
     "text": [
      "[[ 34  93  34]\n",
      " [ 93 255  93]\n",
      " [ 34  93  34]]\n"
     ]
    }
   ],
   "source": [
    "print(gaussian_kernel(1, 0.5))"
   ]
  },
  {
   "cell_type": "code",
   "execution_count": 45,
   "metadata": {},
   "outputs": [
    {
     "name": "stdout",
     "output_type": "stream",
     "text": [
      "    file name  visibility  x-coordinate  y-coordinate  status\n",
      "0    0000.jpg           1         599.0         423.0     0.0\n",
      "1    0001.jpg           1         601.0         406.0     0.0\n",
      "2    0002.jpg           1         601.0         388.0     0.0\n",
      "3    0003.jpg           1         598.0         371.0     0.0\n",
      "4    0004.jpg           1         598.0         353.0     0.0\n",
      "..        ...         ...           ...           ...     ...\n",
      "202  0202.jpg           1        1171.0         553.0     0.0\n",
      "203  0203.jpg           1        1198.0         577.0     0.0\n",
      "204  0204.jpg           1        1230.0         607.0     0.0\n",
      "205  0205.jpg           1        1261.0         639.0     0.0\n",
      "206  0206.jpg           1        1279.0         661.0     0.0\n",
      "\n",
      "[207 rows x 5 columns]\n"
     ]
    }
   ],
   "source": [
    "import pandas as pd\n",
    "labels = pd.read_csv('datasets/TrackNet/game1/Clip1/Label.csv')\n",
    "print(labels)"
   ]
  },
  {
   "cell_type": "code",
   "execution_count": 42,
   "metadata": {},
   "outputs": [],
   "source": [
    "import os\n",
    "import pandas as pd\n",
    "import cv2\n",
    "\n",
    "\n",
    "def create_ground_truth_images(input_path, output_path, size, variance, height, width):\n",
    "    gaussian_kernel_array = gaussian_kernel(size, variance)\n",
    "    for game_id in range(1, 11):\n",
    "        game = 'game{}'.format(game_id)\n",
    "        clips = os.listdir(os.path.join(input_path, game))\n",
    "        for clip in clips:\n",
    "            print('game: {}, clip: {}'.format(game, clip))\n",
    "\n",
    "            # Create the directory structure for game\n",
    "            path_out_game = os.path.join(output_path, game)\n",
    "            if not os.path.exists(path_out_game):\n",
    "                os.makedirs(path_out_game)\n",
    "\n",
    "            # Create the directory structure for clip\n",
    "            path_out_clip = os.path.join(path_out_game, clip)\n",
    "            if not os.path.exists(path_out_clip):\n",
    "                os.makedirs(path_out_clip)\n",
    "\n",
    "            # Load the labels\n",
    "            path_labels = os.path.join(input_path, game, clip, 'Label.csv')\n",
    "            labels = pd.read_csv(path_labels)\n",
    "            for idx in range(labels.shape[0]):\n",
    "                # Extract the label information\n",
    "                file_name, visibility, x, y, status = labels.iloc[idx]\n",
    "                # Create the heatmap\n",
    "                heatmap = np.zeros((height, width), dtype=np.uint8)\n",
    "\n",
    "                if visibility != 0:\n",
    "                    x = int(x)\n",
    "                    y = int(y)\n",
    "                    for i in range(-size, size+1):\n",
    "                        for j in range(-size, size+1):\n",
    "                            if x + i >= 0 and x + i < width and y + j >= 0 and y + j < height:\n",
    "                                heatmap[y + j, x + i] = gaussian_kernel_array[j + size, i + size]\n",
    "\n",
    "                cv2.imwrite(os.path.join(path_out_clip, file_name), heatmap)\n",
    "\n"
   ]
  },
  {
   "cell_type": "code",
   "execution_count": 55,
   "metadata": {},
   "outputs": [
    {
     "name": "stdout",
     "output_type": "stream",
     "text": [
      "                         img_path_1                    img_path_2  \\\n",
      "3956    images/game2/Clip8/0443.jpg   images/game2/Clip8/0442.jpg   \n",
      "10548   images/game6/Clip1/0364.jpg   images/game6/Clip1/0363.jpg   \n",
      "10406   images/game6/Clip1/0222.jpg   images/game6/Clip1/0221.jpg   \n",
      "6425    images/game4/Clip1/0399.jpg   images/game4/Clip1/0398.jpg   \n",
      "17421   images/game9/Clip9/0119.jpg   images/game9/Clip9/0118.jpg   \n",
      "...                             ...                           ...   \n",
      "478    images/game1/Clip12/0040.jpg  images/game1/Clip12/0039.jpg   \n",
      "3530    images/game2/Clip8/0017.jpg   images/game2/Clip8/0016.jpg   \n",
      "15851   images/game8/Clip9/0119.jpg   images/game8/Clip9/0118.jpg   \n",
      "11772   images/game6/Clip3/0417.jpg   images/game6/Clip3/0416.jpg   \n",
      "2726    images/game2/Clip5/0143.jpg   images/game2/Clip5/0142.jpg   \n",
      "\n",
      "                         img_path_3                   ground_truth_path  \\\n",
      "3956    images/game2/Clip8/0441.jpg   ground_truth/game2/Clip8/0443.jpg   \n",
      "10548   images/game6/Clip1/0362.jpg   ground_truth/game6/Clip1/0364.jpg   \n",
      "10406   images/game6/Clip1/0220.jpg   ground_truth/game6/Clip1/0222.jpg   \n",
      "6425    images/game4/Clip1/0397.jpg   ground_truth/game4/Clip1/0399.jpg   \n",
      "17421   images/game9/Clip9/0117.jpg   ground_truth/game9/Clip9/0119.jpg   \n",
      "...                             ...                                 ...   \n",
      "478    images/game1/Clip12/0038.jpg  ground_truth/game1/Clip12/0040.jpg   \n",
      "3530    images/game2/Clip8/0015.jpg   ground_truth/game2/Clip8/0017.jpg   \n",
      "15851   images/game8/Clip9/0117.jpg   ground_truth/game8/Clip9/0119.jpg   \n",
      "11772   images/game6/Clip3/0415.jpg   ground_truth/game6/Clip3/0417.jpg   \n",
      "2726    images/game2/Clip5/0141.jpg   ground_truth/game2/Clip5/0143.jpg   \n",
      "\n",
      "       x-coordinate  y-coordinate  visibility  status  \n",
      "3956          602.0         156.0           1     0.0  \n",
      "10548         638.0         276.0           1     0.0  \n",
      "10406         692.0         174.0           1     0.0  \n",
      "6425          626.0         135.0           1     0.0  \n",
      "17421         558.0         432.0           1     0.0  \n",
      "...             ...           ...         ...     ...  \n",
      "478           563.0         217.0           1     0.0  \n",
      "3530          775.0         400.0           1     0.0  \n",
      "15851         785.0         341.0           1     0.0  \n",
      "11772         525.0         330.0           1     0.0  \n",
      "2726          463.0         288.0           1     0.0  \n",
      "\n",
      "[19645 rows x 8 columns]\n"
     ]
    }
   ],
   "source": [
    "def create_ground_truth_labels(input_path, output_path, train_rate=0.7):\n",
    "    df = pd.DataFrame()\n",
    "    for game_id in range(1, 11):\n",
    "        game = 'game{}'.format(game_id)\n",
    "        clips = os.listdir(os.path.join(input_path, game))\n",
    "        for clip in clips:\n",
    "            # Load the labels\n",
    "            path_labels = os.path.join(input_path, game, clip, 'Label.csv')\n",
    "            labels = pd.read_csv(path_labels)\n",
    "            labels['img_path_1'] = 'images/' + game +'/' + clip + '/' + labels['file name']\n",
    "            labels['ground_truth_path'] = 'ground_truth/' + game +'/' + clip + '/' + labels['file name']\n",
    "            \n",
    "            # We startat the third image to have 3 consecutive images\n",
    "            labels_target = labels[2:].copy()\n",
    "            labels_target.loc[:, 'img_path_2'] = list(labels['img_path_1'][1:-1])\n",
    "            labels_target.loc[:, 'img_path_3'] = list(labels['img_path_1'][:-2])\n",
    "            df = pd.concat([df, labels_target])\n",
    "    \n",
    "    df = df.reset_index(drop=True)\n",
    "    df = df[['img_path_1', 'img_path_2', 'img_path_3', 'ground_truth_path', 'x-coordinate', 'y-coordinate', 'visibility', 'status']]\n",
    "    \n",
    "    # We shuffle the data\n",
    "    df = df.sample(frac=1)\n",
    "    num_train = int(train_rate * df.shape[0])\n",
    "    df_train = df[:num_train]\n",
    "    df_test = df[num_train:]\n",
    "    df_train.to_csv(os.path.join(output_path, 'labels_train.csv'), index=False)\n",
    "    df_test.to_csv(os.path.join(output_path, 'labels_test.csv'), index=False)\n",
    "    print(df)\n",
    "    \n",
    "create_ground_truth_labels('datasets/TrackNet', 'datasets/TrackNet')      "
   ]
  }
 ],
 "metadata": {
  "kernelspec": {
   "display_name": "base",
   "language": "python",
   "name": "python3"
  },
  "language_info": {
   "codemirror_mode": {
    "name": "ipython",
    "version": 3
   },
   "file_extension": ".py",
   "mimetype": "text/x-python",
   "name": "python",
   "nbconvert_exporter": "python",
   "pygments_lexer": "ipython3",
   "version": "3.11.5"
  }
 },
 "nbformat": 4,
 "nbformat_minor": 2
}
